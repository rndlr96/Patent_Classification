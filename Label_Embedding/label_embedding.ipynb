{
 "cells": [
  {
   "cell_type": "code",
   "execution_count": 1,
   "metadata": {},
   "outputs": [],
   "source": [
    "with open(\"/notebook/Glove_data/non_ipc/train_labels.txt\") as f:\n",
    "    labels = [label[:-1] for label in f.readlines()]"
   ]
  },
  {
   "cell_type": "code",
   "execution_count": 3,
   "metadata": {},
   "outputs": [],
   "source": [
    "import numpy as np\n",
    "\n",
    "labels = [label.split() for label in labels]"
   ]
  },
  {
   "cell_type": "code",
   "execution_count": 4,
   "metadata": {},
   "outputs": [
    {
     "name": "stderr",
     "output_type": "stream",
     "text": [
      "/opt/conda/lib/python3.7/site-packages/ipykernel_launcher.py:2: DeprecationWarning: This function is deprecated. Please call randint(0, 1 + 1) instead\n",
      "  \n"
     ]
    }
   ],
   "source": [
    "import numpy as np\n",
    "a=np.reshape(np.random.random_integers(0,1,size=100),(10,10))\n",
    "\n",
    "labels = [list(set(label)) for label in labels]"
   ]
  },
  {
   "cell_type": "code",
   "execution_count": 2,
   "metadata": {},
   "outputs": [],
   "source": [
    "import numpy\n",
    "import itertools\n",
    "from collections import Counter\n",
    "\n",
    "# Get all of the unique entries you have\n",
    "varnames = tuple(sorted(set(itertools.chain(*labels))))\n",
    "\n",
    "# Get a list of all of the combinations you have\n",
    "expanded = [tuple(itertools.combinations(d, 2)) for d in labels]\n",
    "expanded = itertools.chain(*expanded)\n",
    "\n",
    "expanded = [tuple(sorted(d)) for d in expanded]\n",
    "\n",
    "c = Counter(expanded)\n",
    "\n",
    "table = numpy.zeros((len(varnames),len(varnames)), dtype=int)\n",
    "\n",
    "for i, v1 in enumerate(varnames):\n",
    "    for j, v2 in enumerate(varnames[i:]): \n",
    "        j = j + i \n",
    "        table[i, j] = c[v1, v2]\n",
    "        table[j, i] = c[v1, v2]\n",
    "\n",
    "import networkx as nx\n",
    "\n",
    "G = nx.from_numpy_matrix(table)\n",
    "\n",
    "import matplotlib.pyplot as plt\n",
    "import matplotlib\n",
    "\n",
    "nx.draw(G, with_labels=True, font_weight='bold')\n",
    "plot_backend = matplotlib.get_backend()\n",
    "mng = plt.get_current_fig_manager()\n",
    "if plot_backend == 'TkAgg':\n",
    "    mng.resize(*mng.window.maxsize())\n",
    "elif plot_backend == 'wxAgg':\n",
    "    mng.frame.Maximize(True)\n",
    "elif plot_backend == 'Qt4Agg':\n",
    "    mng.window.showMaximized()\n",
    "plt.savefig(\"path.png\")\n",
    "\n",
    "from node2vec import Node2Vec\n",
    "\n",
    "node2vec = Node2Vec(G, dimensions=256, walk_length=30, num_walks=200, workers=8)\n",
    "\n",
    "from node2vec import Node2Vec\n",
    "model = node2vec.fit(window=15, min_count=1)\n",
    "\n",
    "model.wv.save_word2vec_format('/notebook/LAHA/label256.wv')"
   ]
  }
 ],
 "metadata": {
  "kernelspec": {
   "display_name": "Python 3",
   "language": "python",
   "name": "python3"
  },
  "language_info": {
   "codemirror_mode": {
    "name": "ipython",
    "version": 3
   },
   "file_extension": ".py",
   "mimetype": "text/x-python",
   "name": "python",
   "nbconvert_exporter": "python",
   "pygments_lexer": "ipython3",
   "version": "3.7.4"
  }
 },
 "nbformat": 4,
 "nbformat_minor": 4
}
